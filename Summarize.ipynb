{
 "cells": [
  {
   "cell_type": "code",
   "execution_count": 1,
   "metadata": {},
   "outputs": [
    {
     "name": "stderr",
     "output_type": "stream",
     "text": [
      "[nltk_data] Downloading package stopwords to\n",
      "[nltk_data]     /Users/ewilens/nltk_data...\n",
      "[nltk_data]   Package stopwords is already up-to-date!\n",
      "[nltk_data] Downloading package punkt to /Users/ewilens/nltk_data...\n",
      "[nltk_data]   Package punkt is already up-to-date!\n"
     ]
    }
   ],
   "source": [
    "# Natural Language Tool Kit (NLTK)\n",
    "import nltk\n",
    "nltk.download('stopwords')\n",
    "nltk.download('punkt')\n",
    "# Regular Expression for text preprocessing\n",
    "import re\n",
    "# Heap (priority) queue algorithm to get the top sentences\n",
    "import heapq\n",
    "import numpy as np\n",
    "import pandas as pd\n",
    "from matplotlib import pyplot as plt\n",
    "%matplotlib inline"
   ]
  },
  {
   "cell_type": "code",
   "execution_count": 9,
   "metadata": {},
   "outputs": [],
   "source": [
    "def get_text(text_file):\n",
    "    \"\"\"Takes a .txt file and returns the text, as well as the cleaned text. \"\"\"\n",
    "    \n",
    "    with open(text_file, 'r') as f:\n",
    "        text = f.read()\n",
    "        \n",
    "    # replace reference number (i.e. [n]) with empty space, if any..\n",
    "    clean_text = re.sub(r'\\[[0-9]*\\]',' ', text)\n",
    "    # replace one or more spaces with one space\n",
    "    clean_text = re.sub(r'\\s+',' ',clean_text)\n",
    "    # convert all uppercase characters into lowercase characters\n",
    "    clean_text = clean_text.lower()\n",
    "    # replace character other than [a-zA-Z0-9]\n",
    "    clean_text = re.sub(r'\\W',' ',clean_text)\n",
    "    # replace digit with empty\n",
    "    clean_text = re.sub(r'\\d',' ',clean_text)\n",
    "    \n",
    "    return text, clean_text\n",
    "\n",
    "\n",
    "def rank_sentence(text, clean_text):\n",
    "    \"\"\"Splits text string into sentences. \"\"\"\n",
    "    \n",
    "    sentences = nltk.sent_tokenize(text)\n",
    "    stop_words = nltk.corpus.stopwords.words('english')\n",
    "    \n",
    "    word_count = {}\n",
    "    words = nltk.word_tokenize(clean_text)\n",
    "    for word in words:\n",
    "        if word not in stop_words:\n",
    "            word_count[word] = word_count.get(word, 0) + 1\n",
    "            \n",
    "    sentence_score = {}\n",
    "    \n",
    "    for sentence in sentences:\n",
    "        sentence_words = nltk.word_tokenize(sentence.lower())\n",
    "        num_words = len(sentence.split(' '))\n",
    "        \n",
    "        for word in sentence_words:\n",
    "            if word in word_count.keys():\n",
    "                # only take sentence that has less than 30 words\n",
    "                if num_words < 30:\n",
    "                    # add word score to sentence score\n",
    "                    sentence_score[sentence] = sentence_score.get(sentence, 0) + word_count[word]\n",
    "    \n",
    "    return sentence_score, word_count"
   ]
  },
  {
   "cell_type": "code",
   "execution_count": 10,
   "metadata": {},
   "outputs": [
    {
     "data": {
      "text/plain": [
       "[]"
      ]
     },
     "execution_count": 10,
     "metadata": {},
     "output_type": "execute_result"
    },
    {
     "data": {
      "image/png": "[encoded data removed]",
      "text/plain": [
       "<Figure size 720x720 with 1 Axes>"
      ]
     },
     "metadata": {
      "needs_background": "light"
     },
     "output_type": "display_data"
    }
   ],
   "source": [
    "# Jupyter Notebook only - Plot top words\n",
    "\n",
    "text, clean_text = get_text(\"Apple-Acquires-AI-Startup.txt\")\n",
    "_, word_count = rank_sentence(text, clean_text)\n",
    "\n",
    "def plot_top_words(word_count, show_top_n=20):\n",
    "    word_count_table = pd.DataFrame.from_dict(word_count, orient = 'index').rename(columns={0: 'score'})\n",
    "    word_count_table.sort_values(by='score').tail(show_top_n).plot(kind='barh', figsize=(10,10))\n",
    "    return plt\n",
    "\n",
    "plot_top_words(word_count).plot()"
   ]
  },
  {
   "cell_type": "code",
   "execution_count": 11,
   "metadata": {},
   "outputs": [
    {
     "data": {
      "text/html": [
       "<div>\n",
       "<style scoped>\n",
       "    .dataframe tbody tr th:only-of-type {\n",
       "        vertical-align: middle;\n",
       "    }\n",
       "\n",
       "    .dataframe tbody tr th {\n",
       "        vertical-align: top;\n",
       "    }\n",
       "\n",
       "    .dataframe thead th {\n",
       "        text-align: right;\n",
       "    }\n",
       "</style>\n",
       "<table border=\"1\" class=\"dataframe\">\n",
       "  <thead>\n",
       "    <tr style=\"text-align: right;\">\n",
       "      <th></th>\n",
       "      <th>score</th>\n",
       "    </tr>\n",
       "  </thead>\n",
       "  <tbody>\n",
       "    <tr>\n",
       "      <th>In an attempt to scale up its AI portfolio, Apple has acquired Spain-based AI video startup — Vilynx for approximately $50 million.</th>\n",
       "      <td>44</td>\n",
       "    </tr>\n",
       "    <tr>\n",
       "      <th>With CEO Tim Cook’s vision of the potential of augmented reality, the company could also make use of AI-based tools like Vilynx.</th>\n",
       "      <td>31</td>\n",
       "    </tr>\n",
       "    <tr>\n",
       "      <th>With its habit of quietly purchasing smaller companies, Apple is making a mark in the AI space.</th>\n",
       "      <td>28</td>\n",
       "    </tr>\n",
       "    <tr>\n",
       "      <th>This helps it categorising and tagging metadata to the videos, as well as generate automated video previews, and recommend related content to users, according to the company website.</th>\n",
       "      <td>27</td>\n",
       "    </tr>\n",
       "    <tr>\n",
       "      <th>In 2018, CEO Tim Cook said in an interview that the company had bought 20 companies over six months, while only six were public knowledge.</th>\n",
       "      <td>25</td>\n",
       "    </tr>\n",
       "  </tbody>\n",
       "</table>\n",
       "</div>"
      ],
      "text/plain": [
       "                                                    score\n",
       "In an attempt to scale up its AI portfolio, App...     44\n",
       "With CEO Tim Cook’s vision of the potential of ...     31\n",
       "With its habit of quietly purchasing smaller co...     28\n",
       "This helps it categorising and tagging metadata...     27\n",
       "In 2018, CEO Tim Cook said in an interview that...     25"
      ]
     },
     "execution_count": 11,
     "metadata": {},
     "output_type": "execute_result"
    }
   ],
   "source": [
    "# For Jupyter Notebook Only (Not App) - show DataFrame with the top ranked sentences\n",
    "text, clean_text = get_text(\"Apple-Acquires-AI-Startup.txt\")\n",
    "sentence_score, _ = rank_sentence(text, clean_text)\n",
    "\n",
    "def scores_to_df(sentence_score):\n",
    "    \"\"\"Takes sentence score dictionary and turns it into sorted DataFrame. \"\"\"\n",
    "    \n",
    "    sentence_score_df = pd.DataFrame.from_dict(sentence_score, orient='index').rename(columns={0: 'score'})\n",
    "    sentence_score_df = sentence_score_df.sort_values(by='score', ascending = False)\n",
    "    return sentence_score_df\n",
    "    \n",
    "\n",
    "sentence_score_df = scores_to_df(sentence_score)\n",
    "sentence_score_df"
   ]
  },
  {
   "cell_type": "code",
   "execution_count": null,
   "metadata": {},
   "outputs": [],
   "source": [
    "def get_best_sentences(sentence_score_dict):\n",
    "    \"\"\"Takes the sentence scores and returns a list of the top n sentences. \"\"\"\n",
    "    \n",
    "    best_sentences = heapq.nlargest(3, sentence_score, key=sentence_score.get)\n",
    "    return best_sentences\n",
    "\n",
    "best_sentences = get_best_sentences(sentence_score)\n",
    "best_sentences"
   ]
  },
  {
   "cell_type": "code",
   "execution_count": null,
   "metadata": {
    "scrolled": true
   },
   "outputs": [],
   "source": [
    "def display_summary(best_sentences_list):\n",
    "    \"\"\"Outputs summary to the screen. \"\"\"\n",
    "    \n",
    "    print('SUMMARY')\n",
    "    print('-------------------')\n",
    "    \n",
    "    i = 1\n",
    "    for sentence in best_sentences:\n",
    "        print(\"{}: {}\".format(i, sentence))\n",
    "        i += 1\n",
    "\n",
    "display_summary(best_sentences)"
   ]
  }
 ],
 "metadata": {
  "kernelspec": {
   "display_name": "Python 3",
   "language": "python",
   "name": "python3"
  },
  "language_info": {
   "codemirror_mode": {
    "name": "ipython",
    "version": 3
   },
   "file_extension": ".py",
   "mimetype": "text/x-python",
   "name": "python",
   "nbconvert_exporter": "python",
   "pygments_lexer": "ipython3",
   "version": "3.8.5"
  }
 },
 "nbformat": 4,
 "nbformat_minor": 4
}
